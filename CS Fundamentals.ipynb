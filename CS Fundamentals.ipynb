{
 "cells": [
  {
   "cell_type": "code",
   "execution_count": 1,
   "metadata": {},
   "outputs": [],
   "source": [
    "import pandas as pd\n",
    "import numpy as np"
   ]
  },
  {
   "cell_type": "markdown",
   "metadata": {},
   "source": [
    "### hash table"
   ]
  },
  {
   "cell_type": "code",
   "execution_count": 28,
   "metadata": {},
   "outputs": [
    {
     "data": {
      "text/plain": [
       "array([0.16662146, 0.1319328 , 0.82117287, 0.53670879, 0.95469871])"
      ]
     },
     "execution_count": 28,
     "metadata": {},
     "output_type": "execute_result"
    }
   ],
   "source": [
    "val = np.random.rand(5)\n",
    "val"
   ]
  },
  {
   "cell_type": "code",
   "execution_count": 32,
   "metadata": {
    "scrolled": true
   },
   "outputs": [
    {
     "name": "stdout",
     "output_type": "stream",
     "text": [
      "['907', '289', '744', '351', '091']\n"
     ]
    }
   ],
   "source": [
    "key=[]\n",
    "[key.append(str(val[i])[-3:]) for i, element in enumerate(val)]\n",
    "print(key) "
   ]
  },
  {
   "cell_type": "code",
   "execution_count": 39,
   "metadata": {},
   "outputs": [
    {
     "name": "stdout",
     "output_type": "stream",
     "text": [
      "{'907': 0.16662146245585907, '289': 0.131932803466289, '744': 0.821172871333744, '351': 0.5367087895812351, '091': 0.9546987136906091}\n"
     ]
    }
   ],
   "source": [
    "htable={}\n",
    "for i, element in enumerate(val):\n",
    "    htable[key[i]] = element\n",
    "print(htable)"
   ]
  },
  {
   "cell_type": "code",
   "execution_count": 104,
   "metadata": {},
   "outputs": [],
   "source": [
    "# this takes a bunch of values and puts them into a Hash Table\n",
    "class Hash:\n",
    "    def __init__(self, values):\n",
    "        self.val = values    \n",
    "        self.keys = self.get_keys()\n",
    "        self.table = self.make_table()\n",
    "    \n",
    "    #method: get all keys using hash function\n",
    "    def get_keys(self):\n",
    "        keys=[]\n",
    "        [keys.append( self.hash_function(element) ) for i, element in enumerate(self.val)]\n",
    "        return keys\n",
    "\n",
    "    #method: map from the universe of keys to the keys for my values\n",
    "    def hash_function(self, value):\n",
    "        return str(value)[-3:]\n",
    "        \n",
    "    #method: create a hash table from the keys and values\n",
    "    def make_table(self):\n",
    "        htable={}\n",
    "        for i, element in enumerate(self.val):\n",
    "            htable[self.keys[i]] = element\n",
    "        return htable\n",
    "    \n",
    "    #method: insert\n",
    "    def insert(self, new_val):\n",
    "        self.keys.append( self.hash_function(new_val) )\n",
    "        self.table[ self.hash_function(new_val) ] = new_val  \n",
    "        \n",
    "# Q: how should I do these without python's shortcuts?\n",
    "    #method: delete\n",
    "    def delete(self, key):\n",
    "        if key in self.keys:\n",
    "            del self.table[key]\n",
    "    \n",
    "    #method: search to find the value for a given key\n",
    "    def search(self, key):\n",
    "        if key in self.keys:\n",
    "            return self.table.get(key)   "
   ]
  },
  {
   "cell_type": "code",
   "execution_count": 105,
   "metadata": {},
   "outputs": [],
   "source": [
    "my_hash = Hash(val)\n",
    "#my_hash.keys\n",
    "#my_hash.table\n",
    "#my_hash.search('907')\n",
    "my_hash.delete('907')\n",
    "#add a value\n",
    "#my_hash.insert(np.random.rand(1)[0])\n",
    "#print(my_hash.table)"
   ]
  },
  {
   "cell_type": "code",
   "execution_count": 106,
   "metadata": {},
   "outputs": [
    {
     "name": "stdout",
     "output_type": "stream",
     "text": [
      "{'289': 0.131932803466289, '744': 0.821172871333744, '351': 0.5367087895812351, '091': 0.9546987136906091}\n"
     ]
    }
   ],
   "source": [
    "print(my_hash.table)"
   ]
  },
  {
   "cell_type": "markdown",
   "metadata": {},
   "source": [
    "### stack"
   ]
  },
  {
   "cell_type": "code",
   "execution_count": 174,
   "metadata": {},
   "outputs": [],
   "source": [
    "# this uses an empty list, and performs almost all methods without using list methods \n",
    "class Stack:\n",
    "    def __init__(self):\n",
    "        self.items = []    \n",
    "        ## NOTE: Define max size \n",
    "        self.top = len(self.items)\n",
    "    \n",
    "    #method: push something to the top of the stack\n",
    "    def push(self, new_item):\n",
    "        if self.top == len(self.items):\n",
    "            self.items.append(new_item)\n",
    "        elif self.top < len(self.items):\n",
    "            self.items[self.top] = new_item\n",
    "        self.top = self.top + 1\n",
    "        \n",
    "    #method: push something to the top of the stack\n",
    "    def pop(self):\n",
    "        if self.top == 0:\n",
    "            return \"underflow\"\n",
    "        else:\n",
    "            pop_value = self.items[self.top-1]\n",
    "            self.items = self.items[:-1]\n",
    "            return pop_value \n",
    "        #return self.items.pop()\n",
    "    \n",
    "    #peek: look at the top without popping it \n",
    "    \n",
    "    #method: populate from values or items\n",
    "    def populate(self, values):\n",
    "        #NOTE: MAKE THIS CALL PUSH!!!\n",
    "        [self.items.append(values[i]) for i,value in enumerate(values)]\n",
    "        self.top = len(self.items)"
   ]
  },
  {
   "cell_type": "code",
   "execution_count": 175,
   "metadata": {},
   "outputs": [
    {
     "data": {
      "text/plain": [
       "array([0, 1, 2, 3, 4, 5, 6, 7, 8, 9])"
      ]
     },
     "execution_count": 175,
     "metadata": {},
     "output_type": "execute_result"
    }
   ],
   "source": [
    "s = np.arange(10)\n",
    "s"
   ]
  },
  {
   "cell_type": "code",
   "execution_count": 176,
   "metadata": {},
   "outputs": [
    {
     "data": {
      "text/plain": [
       "42"
      ]
     },
     "execution_count": 176,
     "metadata": {},
     "output_type": "execute_result"
    }
   ],
   "source": [
    "my_stack = Stack()\n",
    "my_stack.populate(s)\n",
    "my_stack.push(42)\n",
    "my_stack.pop()\n",
    "my_stack.push(20)\n",
    "my_stack.items\n",
    "#my_stack.top\n",
    "#my_stack.push(14)\n",
    "#my_stack.pop()\n",
    "#my_stack.val"
   ]
  },
  {
   "cell_type": "markdown",
   "metadata": {},
   "source": [
    "### queue"
   ]
  },
  {
   "cell_type": "code",
   "execution_count": 194,
   "metadata": {},
   "outputs": [],
   "source": [
    "# queues are like a list of customers. First in, first out... follow the queue\n",
    "# this uses an empty list, and performs almost all methods without using list methods \n",
    "class Queue:\n",
    "    def __init__(self):\n",
    "        self.items = []    \n",
    "        self.tail = len(self.items)\n",
    "        self.head = 0\n",
    "        \n",
    "    #method: enqueue something to back of the line\n",
    "    def enqueue(self, new_item):\n",
    "        self.items.append(new_item)\n",
    "        self.tail = self.tail + 1\n",
    "                \n",
    "    #method: dequeue something from the front of the line\n",
    "    def dequeue(self):\n",
    "        if self.tail == 0:\n",
    "            return \"underflow\"\n",
    "        else:\n",
    "            # change to self.items = self.items[1:] to keep only the rest\n",
    "            upfront = self.items[self.head]\n",
    "            self.head = self.head + 1\n",
    "            return upfront \n",
    "    \n",
    "    #method: populate from values or items\n",
    "    def populate(self, values):\n",
    "        [self.items.append(values[i]) for i,value in enumerate(values)]\n",
    "        self.tail = len(self.items)\n",
    "\n",
    "    #method: pull the whole thing\n",
    "    def get_queue(self):\n",
    "        return self.items[self.head:self.tail]"
   ]
  },
  {
   "cell_type": "code",
   "execution_count": 197,
   "metadata": {},
   "outputs": [
    {
     "data": {
      "text/plain": [
       "[2, 3, 4, 5, 6, 7, 8, 9, 14, 9]"
      ]
     },
     "execution_count": 197,
     "metadata": {},
     "output_type": "execute_result"
    }
   ],
   "source": [
    "my_q = Queue()\n",
    "my_q.populate(s)\n",
    "my_q.enqueue(14)\n",
    "#my_q.items\n",
    "my_q.dequeue()\n",
    "my_q.dequeue()\n",
    "my_q.enqueue(9)\n",
    "my_q.get_queue()"
   ]
  },
  {
   "cell_type": "markdown",
   "metadata": {},
   "source": [
    "### deque"
   ]
  },
  {
   "cell_type": "markdown",
   "metadata": {},
   "source": [
    "### linked list"
   ]
  },
  {
   "cell_type": "code",
   "execution_count": 191,
   "metadata": {},
   "outputs": [],
   "source": [
    "class Node: \n",
    "    def __init__(self, val): \n",
    "        self.val = val \n",
    "        self.next = None\n",
    "        \n",
    "    #this traverses from a starting point\n",
    "    def traverse(self):\n",
    "        while self != None:\n",
    "            print(self.val)\n",
    "            self=self.next\n",
    "\n",
    "    #this searches for x\n",
    "    def search(self, x):\n",
    "        count = 1\n",
    "        while self.val != x and self.next!=None:\n",
    "            self=self.next\n",
    "            count +=1\n",
    "        if self.val == x:\n",
    "            print(self.val, ' found in node', count)\n",
    "        if self.next == None:\n",
    "            print('Value not found.')\n",
    "            \n",
    "    #this inserts the value x into the kth spot where spots are indexed by 1\n",
    "    def insert(self, x, k):\n",
    "        newnode = Node(x)\n",
    "        if k == 1:\n",
    "            newnode.next = self\n",
    "            newnode.traverse()\n",
    "        else: \n",
    "            count = 2 \n",
    "            current = self\n",
    "            while count < k:\n",
    "                current=current.next\n",
    "                count+=1\n",
    "            newnode = Node(x)\n",
    "            # have the new node point to the rest of the list\n",
    "            newnode.next = current.next\n",
    "            # point the current node to the new node\n",
    "            current.next = newnode\n",
    "            node1.traverse()\n",
    "    \n",
    "    # reverse the list\n",
    "    def reverse(self):\n",
    "        prior_node = None \n",
    "        while self.next != None:\n",
    "            hold_next = self.next\n",
    "            self.next = prior_node\n",
    "            prior_node = self\n",
    "            self = hold_next\n",
    "        self.next = prior_node\n",
    "        self.traverse()"
   ]
  },
  {
   "cell_type": "code",
   "execution_count": 192,
   "metadata": {},
   "outputs": [
    {
     "name": "stdout",
     "output_type": "stream",
     "text": [
      "3\n",
      "4\n",
      "5\n",
      "8\n"
     ]
    }
   ],
   "source": [
    "node1 = Node(3)\n",
    "node2 = Node(5)\n",
    "node3 = Node(8)\n",
    "node1.next = node2\n",
    "node2.next = node3\n",
    "#node1.traverse()\n",
    "#node1.search(10)\n",
    "node1.insert(4,2)"
   ]
  },
  {
   "cell_type": "code",
   "execution_count": 193,
   "metadata": {},
   "outputs": [
    {
     "name": "stdout",
     "output_type": "stream",
     "text": [
      "8\n",
      "5\n",
      "4\n",
      "3\n"
     ]
    }
   ],
   "source": [
    "node1.reverse()"
   ]
  },
  {
   "cell_type": "markdown",
   "metadata": {},
   "source": [
    "### heap"
   ]
  },
  {
   "cell_type": "code",
   "execution_count": 270,
   "metadata": {},
   "outputs": [],
   "source": [
    "def max_heapify(A, heap_size, i):\n",
    "    left = 2 * i + 1\n",
    "    right = 2 * i + 2\n",
    "    largest = i\n",
    "    if left < heap_size and A[left] > A[largest]:\n",
    "        largest = left\n",
    "    if right < heap_size and A[right] > A[largest]:\n",
    "        largest = right\n",
    "    if largest != i:\n",
    "        A[i], A[largest] = A[largest], A[i]\n",
    "        if i!=0 and i % 2 == 0:\n",
    "            start = int(i/2 - 1)\n",
    "            max_heapify(A, heap_size, start)\n",
    "        elif i!=0 and i % 2 > 0:\n",
    "            start = int(i/2 - .5)\n",
    "            max_heapify(A, heap_size, start)\n",
    "        elif i == 0:\n",
    "            max_heapify(A, heap_size, i)\n",
    "\n",
    "class Heap:\n",
    "    def __init__(self, array):\n",
    "        self.root = None\n",
    "        self.size = len(array)\n",
    "        self.array = array\n",
    "\n",
    "    def build_max_heap(self):\n",
    "        heap_size = self.size\n",
    "        for i in range(heap_size):    \n",
    "            max_heapify(self.array,heap_size, i)\n",
    "        return self.array\n",
    "    \n",
    "    def extract_max(self):\n",
    "        self.build_max_heap()\n",
    "        return self.array[0]\n",
    "    \n",
    "    def insert_max(self, val):\n",
    "        self.array = np.append(val, self.array)\n",
    "        self.build_max_heap()\n",
    "        print(self.array)"
   ]
  },
  {
   "cell_type": "code",
   "execution_count": 273,
   "metadata": {},
   "outputs": [
    {
     "name": "stdout",
     "output_type": "stream",
     "text": [
      "[800 100  36  25   7  19   1   1   2   6   3]\n"
     ]
    }
   ],
   "source": [
    "test = np.array([1,19,36,6,3,25,1,2,7,800])\n",
    "heap = Heap(test)\n",
    "heap.build_max_heap()\n",
    "#heap.extract_max()\n",
    "heap.insert_max(100)"
   ]
  },
  {
   "cell_type": "code",
   "execution_count": null,
   "metadata": {},
   "outputs": [],
   "source": []
  }
 ],
 "metadata": {
  "kernelspec": {
   "display_name": "Python 3",
   "language": "python",
   "name": "python3"
  },
  "language_info": {
   "codemirror_mode": {
    "name": "ipython",
    "version": 3
   },
   "file_extension": ".py",
   "mimetype": "text/x-python",
   "name": "python",
   "nbconvert_exporter": "python",
   "pygments_lexer": "ipython3",
   "version": "3.6.5"
  }
 },
 "nbformat": 4,
 "nbformat_minor": 2
}
