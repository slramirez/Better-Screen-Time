{
 "cells": [
  {
   "cell_type": "code",
   "execution_count": 1,
   "metadata": {},
   "outputs": [],
   "source": [
    "import pandas as pd\n",
    "import numpy as np"
   ]
  },
  {
   "cell_type": "markdown",
   "metadata": {},
   "source": [
    "### hash table"
   ]
  },
  {
   "cell_type": "code",
   "execution_count": 28,
   "metadata": {},
   "outputs": [
    {
     "data": {
      "text/plain": [
       "array([0.16662146, 0.1319328 , 0.82117287, 0.53670879, 0.95469871])"
      ]
     },
     "execution_count": 28,
     "metadata": {},
     "output_type": "execute_result"
    }
   ],
   "source": [
    "val = np.random.rand(5)\n",
    "val"
   ]
  },
  {
   "cell_type": "code",
   "execution_count": 32,
   "metadata": {
    "scrolled": true
   },
   "outputs": [
    {
     "name": "stdout",
     "output_type": "stream",
     "text": [
      "['907', '289', '744', '351', '091']\n"
     ]
    }
   ],
   "source": [
    "key=[]\n",
    "[key.append(str(val[i])[-3:]) for i, element in enumerate(val)]\n",
    "print(key) "
   ]
  },
  {
   "cell_type": "code",
   "execution_count": 39,
   "metadata": {},
   "outputs": [
    {
     "name": "stdout",
     "output_type": "stream",
     "text": [
      "{'907': 0.16662146245585907, '289': 0.131932803466289, '744': 0.821172871333744, '351': 0.5367087895812351, '091': 0.9546987136906091}\n"
     ]
    }
   ],
   "source": [
    "htable={}\n",
    "for i, element in enumerate(val):\n",
    "    htable[key[i]] = element\n",
    "print(htable)"
   ]
  },
  {
   "cell_type": "code",
   "execution_count": 104,
   "metadata": {},
   "outputs": [],
   "source": [
    "# this takes a bunch of values and puts them into a Hash Table\n",
    "class Hash:\n",
    "    def __init__(self, values):\n",
    "        self.val = values    \n",
    "        self.keys = self.get_keys()\n",
    "        self.table = self.make_table()\n",
    "    \n",
    "    #method: get all keys using hash function\n",
    "    def get_keys(self):\n",
    "        keys=[]\n",
    "        [keys.append( self.hash_function(element) ) for i, element in enumerate(self.val)]\n",
    "        return keys\n",
    "\n",
    "    #method: map from the universe of keys to the keys for my values\n",
    "    def hash_function(self, value):\n",
    "        return str(value)[-3:]\n",
    "        \n",
    "    #method: create a hash table from the keys and values\n",
    "    def make_table(self):\n",
    "        htable={}\n",
    "        for i, element in enumerate(self.val):\n",
    "            htable[self.keys[i]] = element\n",
    "        return htable\n",
    "    \n",
    "    #method: insert\n",
    "    def insert(self, new_val):\n",
    "        self.keys.append( self.hash_function(new_val) )\n",
    "        self.table[ self.hash_function(new_val) ] = new_val  \n",
    "        \n",
    "# Q: how should I do these without python's shortcuts?\n",
    "    #method: delete\n",
    "    def delete(self, key):\n",
    "        if key in self.keys:\n",
    "            del self.table[key]\n",
    "    \n",
    "    #method: search to find the value for a given key\n",
    "    def search(self, key):\n",
    "        if key in self.keys:\n",
    "            return self.table.get(key)   "
   ]
  },
  {
   "cell_type": "code",
   "execution_count": 105,
   "metadata": {},
   "outputs": [],
   "source": [
    "my_hash = Hash(val)\n",
    "#my_hash.keys\n",
    "#my_hash.table\n",
    "#my_hash.search('907')\n",
    "my_hash.delete('907')\n",
    "#add a value\n",
    "#my_hash.insert(np.random.rand(1)[0])\n",
    "#print(my_hash.table)"
   ]
  },
  {
   "cell_type": "code",
   "execution_count": 106,
   "metadata": {},
   "outputs": [
    {
     "name": "stdout",
     "output_type": "stream",
     "text": [
      "{'289': 0.131932803466289, '744': 0.821172871333744, '351': 0.5367087895812351, '091': 0.9546987136906091}\n"
     ]
    }
   ],
   "source": [
    "print(my_hash.table)"
   ]
  },
  {
   "cell_type": "markdown",
   "metadata": {},
   "source": [
    "### stack"
   ]
  },
  {
   "cell_type": "code",
   "execution_count": 174,
   "metadata": {},
   "outputs": [],
   "source": [
    "# this uses an empty list, and performs almost all methods without using list methods \n",
    "class Stack:\n",
    "    def __init__(self):\n",
    "        self.items = []    \n",
    "        ## NOTE: Define max size \n",
    "        self.top = len(self.items)\n",
    "    \n",
    "    #method: push something to the top of the stack\n",
    "    def push(self, new_item):\n",
    "        if self.top == len(self.items):\n",
    "            self.items.append(new_item)\n",
    "        elif self.top < len(self.items):\n",
    "            self.items[self.top] = new_item\n",
    "        self.top = self.top + 1\n",
    "        \n",
    "    #method: push something to the top of the stack\n",
    "    def pop(self):\n",
    "        if self.top == 0:\n",
    "            return \"underflow\"\n",
    "        else:\n",
    "            pop_value = self.items[self.top-1]\n",
    "            self.items = self.items[:-1]\n",
    "            return pop_value \n",
    "        #return self.items.pop()\n",
    "    \n",
    "    #peek: look at the top without popping it \n",
    "    \n",
    "    #method: populate from values or items\n",
    "    def populate(self, values):\n",
    "        #NOTE: MAKE THIS CALL PUSH!!!\n",
    "        [self.items.append(values[i]) for i,value in enumerate(values)]\n",
    "        self.top = len(self.items)"
   ]
  },
  {
   "cell_type": "code",
   "execution_count": 175,
   "metadata": {},
   "outputs": [
    {
     "data": {
      "text/plain": [
       "array([0, 1, 2, 3, 4, 5, 6, 7, 8, 9])"
      ]
     },
     "execution_count": 175,
     "metadata": {},
     "output_type": "execute_result"
    }
   ],
   "source": [
    "s = np.arange(10)\n",
    "s"
   ]
  },
  {
   "cell_type": "code",
   "execution_count": 176,
   "metadata": {},
   "outputs": [
    {
     "data": {
      "text/plain": [
       "42"
      ]
     },
     "execution_count": 176,
     "metadata": {},
     "output_type": "execute_result"
    }
   ],
   "source": [
    "my_stack = Stack()\n",
    "my_stack.populate(s)\n",
    "my_stack.push(42)\n",
    "my_stack.pop()\n",
    "my_stack.push(20)\n",
    "my_stack.items\n",
    "#my_stack.top\n",
    "#my_stack.push(14)\n",
    "#my_stack.pop()\n",
    "#my_stack.val"
   ]
  },
  {
   "cell_type": "markdown",
   "metadata": {},
   "source": [
    "### queue"
   ]
  },
  {
   "cell_type": "code",
   "execution_count": 194,
   "metadata": {},
   "outputs": [],
   "source": [
    "# queues are like a list of customers. First in, first out... follow the queue\n",
    "# this uses an empty list, and performs almost all methods without using list methods \n",
    "class Queue:\n",
    "    def __init__(self):\n",
    "        self.items = []    \n",
    "        self.tail = len(self.items)\n",
    "        self.head = 0\n",
    "        \n",
    "    #method: enqueue something to back of the line\n",
    "    def enqueue(self, new_item):\n",
    "        self.items.append(new_item)\n",
    "        self.tail = self.tail + 1\n",
    "                \n",
    "    #method: dequeue something from the front of the line\n",
    "    def dequeue(self):\n",
    "        if self.tail == 0:\n",
    "            return \"underflow\"\n",
    "        else:\n",
    "            # change to self.items = self.items[1:] to keep only the rest\n",
    "            upfront = self.items[self.head]\n",
    "            self.head = self.head + 1\n",
    "            return upfront \n",
    "    \n",
    "    #method: populate from values or items\n",
    "    def populate(self, values):\n",
    "        [self.items.append(values[i]) for i,value in enumerate(values)]\n",
    "        self.tail = len(self.items)\n",
    "\n",
    "    #method: pull the whole thing\n",
    "    def get_queue(self):\n",
    "        return self.items[self.head:self.tail]"
   ]
  },
  {
   "cell_type": "code",
   "execution_count": 197,
   "metadata": {},
   "outputs": [
    {
     "data": {
      "text/plain": [
       "[2, 3, 4, 5, 6, 7, 8, 9, 14, 9]"
      ]
     },
     "execution_count": 197,
     "metadata": {},
     "output_type": "execute_result"
    }
   ],
   "source": [
    "my_q = Queue()\n",
    "my_q.populate(s)\n",
    "my_q.enqueue(14)\n",
    "#my_q.items\n",
    "my_q.dequeue()\n",
    "my_q.dequeue()\n",
    "my_q.enqueue(9)\n",
    "my_q.get_queue()"
   ]
  },
  {
   "cell_type": "markdown",
   "metadata": {},
   "source": [
    "### deque"
   ]
  },
  {
   "cell_type": "markdown",
   "metadata": {},
   "source": [
    "### linked list"
   ]
  },
  {
   "cell_type": "code",
   "execution_count": null,
   "metadata": {},
   "outputs": [],
   "source": [
    "# create a class that is a Node: val, and pointer, and in the class, I have an attribute that gives that node's link to the next\n",
    "#method traverse: walk through from some node (what I give you... print and move on)\n",
    "#method: insert in the middle somewhere at point k\n",
    "# reverse: "
   ]
  }
 ],
 "metadata": {
  "kernelspec": {
   "display_name": "Python 3",
   "language": "python",
   "name": "python3"
  },
  "language_info": {
   "codemirror_mode": {
    "name": "ipython",
    "version": 3
   },
   "file_extension": ".py",
   "mimetype": "text/x-python",
   "name": "python",
   "nbconvert_exporter": "python",
   "pygments_lexer": "ipython3",
   "version": "3.6.5"
  }
 },
 "nbformat": 4,
 "nbformat_minor": 2
}
