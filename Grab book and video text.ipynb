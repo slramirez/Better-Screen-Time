{
 "cells": [
  {
   "cell_type": "markdown",
   "metadata": {},
   "source": [
    "## What is the relationship between children's book texts and YouTube transcripts?  \n",
    "To examine this: \n",
    "* Load Facebook AI's children's books corpus\n",
    "* Extract transcripts from 5 YT videos"
   ]
  },
  {
   "cell_type": "markdown",
   "metadata": {},
   "source": [
    "### Open FB's Book Corpus"
   ]
  },
  {
   "cell_type": "code",
   "execution_count": 1,
   "metadata": {},
   "outputs": [
    {
     "name": "stdout",
     "output_type": "stream",
     "text": [
      "Collecting python-docx\n",
      "\u001b[?25l  Downloading https://files.pythonhosted.org/packages/2e/07/6a89e91c4fa32f074b77a05564e926420b28e5966ee0fc2a1983805acb3c/python-docx-0.8.6.tar.gz (5.3MB)\n",
      "\u001b[K    100% |████████████████████████████████| 5.3MB 3.5MB/s eta 0:00:01\n",
      "\u001b[?25hCollecting lxml>=2.3.2 (from python-docx)\n",
      "\u001b[?25l  Downloading https://files.pythonhosted.org/packages/a4/7c/0c333ccdaa04628b4df46d36b8a700d7810ffecd1371de796e2403fe9380/lxml-4.2.1-cp36-cp36m-macosx_10_6_intel.macosx_10_9_intel.macosx_10_9_x86_64.macosx_10_10_intel.macosx_10_10_x86_64.whl (8.7MB)\n",
      "\u001b[K    100% |████████████████████████████████| 8.7MB 2.4MB/s eta 0:00:01\n",
      "\u001b[?25hBuilding wheels for collected packages: python-docx\n",
      "  Running setup.py bdist_wheel for python-docx ... \u001b[?25ldone\n",
      "\u001b[?25h  Stored in directory: /Users/shawnramirez/Library/Caches/pip/wheels/2d/f7/de/d66fcac9876a765dfd2fbd64ff46e5f3322621800a3cc0130b\n",
      "Successfully built python-docx\n",
      "\u001b[31mmkl-random 1.0.1 requires cython, which is not installed.\u001b[0m\n",
      "\u001b[31mmkl-fft 1.0.0 requires cython, which is not installed.\u001b[0m\n",
      "Installing collected packages: lxml, python-docx\n",
      "Successfully installed lxml-4.2.1 python-docx-0.8.6\n",
      "Collecting lxml\n",
      "\u001b[33m  Cache entry deserialization failed, entry ignored\u001b[0m\n",
      "\u001b[33m  Cache entry deserialization failed, entry ignored\u001b[0m\n",
      "  Downloading https://files.pythonhosted.org/packages/a4/7c/0c333ccdaa04628b4df46d36b8a700d7810ffecd1371de796e2403fe9380/lxml-4.2.1-cp36-cp36m-macosx_10_6_intel.macosx_10_9_intel.macosx_10_9_x86_64.macosx_10_10_intel.macosx_10_10_x86_64.whl (8.7MB)\n",
      "\u001b[K    100% |████████████████████████████████| 8.7MB 112kB/s eta 0:00:01\n",
      "\u001b[?25hInstalling collected packages: lxml\n",
      "Successfully installed lxml-4.2.1\n",
      "\u001b[33mYou are using pip version 9.0.1, however version 10.0.1 is available.\n",
      "You should consider upgrading via the 'pip install --upgrade pip' command.\u001b[0m\n"
     ]
    }
   ],
   "source": [
    "! pip install --pre python-docx\n",
    "! pip3 install --user lxml"
   ]
  },
  {
   "cell_type": "code",
   "execution_count": 2,
   "metadata": {},
   "outputs": [],
   "source": [
    "import numpy as np\n",
    "import pandas as pd"
   ]
  },
  {
   "cell_type": "code",
   "execution_count": 6,
   "metadata": {},
   "outputs": [
    {
     "data": {
      "text/plain": [
       "'/Users/shawnramirez/Google Drive/mypy/better screen time'"
      ]
     },
     "execution_count": 6,
     "metadata": {},
     "output_type": "execute_result"
    }
   ],
   "source": [
    "import os \n",
    "os.getcwd()"
   ]
  },
  {
   "cell_type": "code",
   "execution_count": 10,
   "metadata": {},
   "outputs": [],
   "source": [
    "file = open('CBTest/data/cbt_train.txt', 'r')\n",
    "books = file.read()"
   ]
  },
  {
   "cell_type": "code",
   "execution_count": 11,
   "metadata": {},
   "outputs": [
    {
     "data": {
      "text/plain": [
       "str"
      ]
     },
     "execution_count": 11,
     "metadata": {},
     "output_type": "execute_result"
    }
   ],
   "source": [
    "type(books)"
   ]
  },
  {
   "cell_type": "code",
   "execution_count": 14,
   "metadata": {},
   "outputs": [
    {
     "data": {
      "text/plain": [
       "'_BOOK_TITLE_ : Andrew_Lang___Prince_Prigio.txt.out\\nCHAPTER I. -LCB- Chapter heading picture : p1.jpg -RCB- How the Fairies were not Invited to Court .\\nOnce upon a time there reigned in Pantouflia a king and a queen .\\nWith almost everything else to make them happy , they wanted one thing : they had no children .\\nThis vexed the king even more than the queen , who was very clever and learned , and who had hated dolls when she was a child .\\nHowever , she , too in spite of all the books she read and all the pictures she painted , would have been glad enough to be the mother of a little prince .\\nThe king was anxious to consult the fairies , but the queen would not hear of such a thing .\\nShe did not believe in fairies : she said that they had never existed ; and that she maintained , though The History of the Royal Family was full of chapters about nothing else .\\nWell , at long and at last they had a little boy , who was generally regarded as the finest baby that had ever been seen .\\nEven her'"
      ]
     },
     "execution_count": 14,
     "metadata": {},
     "output_type": "execute_result"
    }
   ],
   "source": [
    "books[0:1000]"
   ]
  },
  {
   "cell_type": "code",
   "execution_count": 15,
   "metadata": {},
   "outputs": [
    {
     "data": {
      "text/plain": [
       "25742250"
      ]
     },
     "execution_count": 15,
     "metadata": {},
     "output_type": "execute_result"
    }
   ],
   "source": [
    "len(books)"
   ]
  },
  {
   "cell_type": "code",
   "execution_count": 20,
   "metadata": {},
   "outputs": [
    {
     "data": {
      "text/plain": [
       "['_BOOK_TITLE_ : Andrew_Lang___Prince_Prigio.txt.out',\n",
       " 'CHAPTER I. -LCB- Chapter heading picture : p1.jpg -RCB- How the Fairies were not Invited to Court .',\n",
       " 'Once upon a time there reigned in Pantouflia a king and a queen .',\n",
       " 'With almost everything else to make them happy , they wanted one thing : they had no children .',\n",
       " 'This vexed the king even more than the queen , who was very clever and learned , and who had hated dolls when she was a child .',\n",
       " 'However , she , too in spite of all the books she read and all the pictures she painted , would have been glad enough to be the mother of a little prince .',\n",
       " 'The king was anxious to consult the fairies , but the queen would not hear of such a thing .',\n",
       " 'She did not believe in fairies : she said that they had never existed ; and that she maintained , though The History of the Royal Family was full of chapters about nothing else .',\n",
       " 'Well , at long and at last they had a little boy , who was generally regarded as the finest baby that had ever been seen .',\n",
       " 'Even her majesty herself remarked that , though she could never believe all the courtiers told her , yet he certainly was a fine child -- a very fine child .']"
      ]
     },
     "execution_count": 20,
     "metadata": {},
     "output_type": "execute_result"
    }
   ],
   "source": [
    "# split on line delimiter\n",
    "split_as_list = books.split('\\n')\n",
    "split_as_list[:10]"
   ]
  },
  {
   "cell_type": "markdown",
   "metadata": {},
   "source": [
    "### Load transcripts from YT"
   ]
  },
  {
   "cell_type": "code",
   "execution_count": 25,
   "metadata": {},
   "outputs": [
    {
     "name": "stdout",
     "output_type": "stream",
     "text": [
      "Collecting srt\n",
      "  Downloading https://files.pythonhosted.org/packages/27/78/254747ee399c6c1389f7c4fed1154505fd182d8e702db3e186523e2f6ecd/srt-1.6.0.tar.gz\n",
      "Building wheels for collected packages: srt\n",
      "  Running setup.py bdist_wheel for srt ... \u001b[?25ldone\n",
      "\u001b[?25h  Stored in directory: /Users/shawnramirez/Library/Caches/pip/wheels/a3/17/9b/28b389ea9cf4983b5964b847e3c1cdd84b40bd152779940d73\n",
      "Successfully built srt\n",
      "\u001b[31mmkl-random 1.0.1 requires cython, which is not installed.\u001b[0m\n",
      "\u001b[31mmkl-fft 1.0.0 requires cython, which is not installed.\u001b[0m\n",
      "Installing collected packages: srt\n",
      "Successfully installed srt-1.6.0\n"
     ]
    }
   ],
   "source": [
    "!pip install pysrt\n",
    "!pip install cython"
   ]
  },
  {
   "cell_type": "code",
   "execution_count": 35,
   "metadata": {},
   "outputs": [],
   "source": [
    "#https://pypi.org/project/pysrt/\n",
    "import pysrt"
   ]
  },
  {
   "cell_type": "code",
   "execution_count": 107,
   "metadata": {},
   "outputs": [
    {
     "name": "stdout",
     "output_type": "stream",
     "text": [
      "b'CZ6_iGvtjds.srt' YTtranscripts/CZ6_iGvtjds.srt\n",
      "b'9x4zQ9T2Zhw.srt' YTtranscripts/9x4zQ9T2Zhw.srt\n",
      "b'BdDnT7jSAYA.srt' YTtranscripts/BdDnT7jSAYA.srt\n",
      "b'j2WhBtmpqCA.srt' YTtranscripts/j2WhBtmpqCA.srt\n",
      "b'fe5Jk7YT_JE.srt' YTtranscripts/fe5Jk7YT_JE.srt\n"
     ]
    }
   ],
   "source": [
    "# Concatenate the lines for each transcript in the directory\n",
    "transcript_directory = os.fsencode('YTtranscripts/')\n",
    "\n",
    "transcript_list = []\n",
    "\n",
    "for file in os.listdir(transcript_directory):\n",
    "    filename = os.fsdecode(file)\n",
    "    if filename.endswith(\".srt\"): \n",
    "        filename = \"YTtranscripts/\" + filename\n",
    "        subs = pysrt.open(filename)\n",
    "        transtring = ''\n",
    "        for i in range(len(subs)): \n",
    "            transtring += \" \" + subs[i].text\n",
    "        transcript_list.append(transtring)\n",
    "        print(file, filename)\n",
    "        continue\n",
    "    else:\n",
    "        continue"
   ]
  },
  {
   "cell_type": "code",
   "execution_count": 110,
   "metadata": {},
   "outputs": [
    {
     "name": "stdout",
     "output_type": "stream",
     "text": [
      " Peanut peanut butter, and jelly Peanut peanut butter, and jelly First you take the peanuts and you crack 'em\n",
      "You crack 'em You crack 'em, crack 'em, crack 'em Peanut peanut butter, and jelly Peanut peanut butter, and jelly Then you take the peanuts and you mash 'em\n",
      "You mash 'em You mash 'em, mash 'em, mash 'em Peanut peanut butter, and jelly Peanut peanut butter, and jelly Then you take the bread and you spread it\n",
      "You spread it You spread it, spread it, spread it Peanut peanut butter, and jelly Peanut peanut butter, and jelly Then you pick the grapes and you pick 'em\n",
      "You pick 'em You pick 'em, pick 'em, pick 'em Peanut peanut butter, and jelly Peanut peanut butter, and jelly Then you take the grapes and you squish 'em\n",
      "You squish 'em You squish 'em, squish 'em, squish 'em Peanut peanut butter, and jelly Peanut peanut butter, and jelly Then you take the bread and you spread it\n",
      "You spread it You spread it, spread it, spread it Peanut peanut butter, and jelly Peanut peanut butter, and jelly Now you take the sandwich and you eat it\n",
      "You eat it You eat it, eat it, eat it Mmmmmmm\n"
     ]
    }
   ],
   "source": [
    "print(transcript_list[4])"
   ]
  },
  {
   "cell_type": "code",
   "execution_count": null,
   "metadata": {},
   "outputs": [],
   "source": []
  }
 ],
 "metadata": {
  "kernelspec": {
   "display_name": "Python 3",
   "language": "python",
   "name": "python3"
  },
  "language_info": {
   "codemirror_mode": {
    "name": "ipython",
    "version": 3
   },
   "file_extension": ".py",
   "mimetype": "text/x-python",
   "name": "python",
   "nbconvert_exporter": "python",
   "pygments_lexer": "ipython3",
   "version": "3.6.5"
  }
 },
 "nbformat": 4,
 "nbformat_minor": 2
}
